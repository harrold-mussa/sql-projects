{
 "cells": [
  {
   "cell_type": "markdown",
   "id": "7ba17707",
   "metadata": {},
   "source": [
    "-- First Project by Harrold MUSSA\n",
    "-- Using the dataset from the following link: https://www.kaggle.com/datasets/tunguz/online-retail\n",
    "-- The project consists of analyzing Online Retail data."
   ]
  },
  {
   "cell_type": "code",
   "execution_count": null,
   "id": "4a02606b",
   "metadata": {},
   "outputs": [
    {
     "name": "stdout",
     "output_type": "stream",
     "text": [
      "Successfully loaded CSV from: Online_Retail.csv\n",
      "Initial row count: 541909\n"
     ]
    }
   ],
   "source": [
    "## First Step \n",
    "    ## Install all dependencies\n",
    "\n",
    "import pandas as pd\n",
    "import sqlite3\n",
    "import kagglehub\n",
    "import os\n",
    "from pathlib import Path\n",
    "\n",
    "## Second Step\n",
    "    ## Download the dataset\n",
    "\n",
    "download_path = Path(\"/home/codespace/.cache/kagglehub/datasets/tunguz/online-retail/versions/1\")\n",
    "file_name = \"Online_Retail.csv\"\n",
    "csv_file_path = download_path / file_name\n",
    "df = pd.read_csv(csv_file_path, encoding='latin1') \n",
    "print(f\"Successfully loaded CSV from: {csv_file_path.name}\")\n",
    "print(f\"Initial row count: {len(df)}\")\n",
    "\n"
   ]
  }
 ],
 "metadata": {
  "kernelspec": {
   "display_name": "Python 3",
   "language": "python",
   "name": "python3"
  },
  "language_info": {
   "codemirror_mode": {
    "name": "ipython",
    "version": 3
   },
   "file_extension": ".py",
   "mimetype": "text/x-python",
   "name": "python",
   "nbconvert_exporter": "python",
   "pygments_lexer": "ipython3",
   "version": "3.12.1"
  }
 },
 "nbformat": 4,
 "nbformat_minor": 5
}
