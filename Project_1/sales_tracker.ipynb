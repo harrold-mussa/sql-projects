{
 "cells": [
  {
   "cell_type": "markdown",
   "id": "d4e378a0",
   "metadata": {},
   "source": [
    "** Amazon Product Analysis, including Review Analysis\n",
    "The .csv has been imported in the first project file to create a star schema image, attached in the folder. "
   ]
  },
  {
   "cell_type": "code",
   "execution_count": 1,
   "id": "5bd7c503",
   "metadata": {},
   "outputs": [
    {
     "name": "stdout",
     "output_type": "stream",
     "text": [
      "Raw data loaded successfully into the 'stg_amazon_products_reviews_raw' table.\n"
     ]
    }
   ],
   "source": [
    "import pandas as pd\n",
    "import sqlite3\n",
    "from sqlalchemy import create_engine\n",
    "\n",
    "engine = create_engine('sqlite:///amazon_sales.csv')\n",
    "\n",
    "csv_filepath = 'data/amazon_sales.csv'\n",
    "raw_df = pd.read_csv(csv_filepath)\n",
    "\n",
    "raw_df.to_sql('stg_amazon_products_reviews_raw', engine, if_exists='replace', index=False)\n",
    "\n",
    "print(\"Raw data loaded successfully into the 'stg_amazon_products_reviews_raw' table.\")"
   ]
  },
  {
   "cell_type": "code",
   "execution_count": 2,
   "id": "897f251e",
   "metadata": {},
   "outputs": [],
   "source": [
    "%load_ext sql\n",
    "%sql sqlite:///amazon_sales.csv"
   ]
  },
  {
   "cell_type": "code",
   "execution_count": null,
   "id": "d7cb1924",
   "metadata": {},
   "outputs": [],
   "source": [
    "%%sql\n",
    "\n",
    "CREATE TABLE dim_product(\n",
    "    product_key INT PRIMARY KEY,\n",
    "    product_id VARCHAR(20) NOT NULL UNIQUE, \n",
    "    product_name VARCHAR(50) NOT NULL,\n",
    "    category TEXT,\n",
    "    discounted NUMERIC,\n",
    "    actual_price NUMERIC,\n",
    "    discount_percentage NUMERIC, \n",
    "    product_link LINK\n",
    ");"
   ]
  },
  {
   "cell_type": "code",
   "execution_count": 14,
   "id": "1f9c9e64",
   "metadata": {},
   "outputs": [
    {
     "name": "stdout",
     "output_type": "stream",
     "text": [
      " * sqlite:///amazon_sales.csv\n",
      "(sqlite3.OperationalError) cannot drop PRIMARY KEY column: \"product_key\"\n",
      "[SQL: ALTER TABLE dim_product\n",
      "DROP COLUMN product_key;]\n",
      "(Background on this error at: https://sqlalche.me/e/20/e3q8)\n"
     ]
    }
   ],
   "source": [
    "%%sql\n",
    "\n",
    "ALTER TABLE dim_product\n",
    "DROP COLUMN product_key;"
   ]
  },
  {
   "cell_type": "code",
   "execution_count": 4,
   "id": "b6d57152",
   "metadata": {},
   "outputs": [
    {
     "name": "stdout",
     "output_type": "stream",
     "text": [
      " * sqlite:///amazon_sales.csv\n",
      "(sqlite3.IntegrityError) NOT NULL constraint failed: dim_product.product_key\n",
      "[SQL: INSERT INTO dim_product(\n",
      "    product_id, product_name, category, actual_price, discount_percentage, product_link\n",
      "    )\n",
      "SELECT\n",
      "    t1.product_id,\n",
      "    t1.product_name,\n",
      "    t1.category,\n",
      "    t1.actual_price,\n",
      "    t1.discount_percentage,\n",
      "    t1.product_link\n",
      "FROM (\n",
      "    SELECT\n",
      "        product_id,\n",
      "        product_name,\n",
      "        category, \n",
      "        actual_price,\n",
      "        discount_percentage,\n",
      "        product_link\n",
      "    FROM stg_amazon_products_reviews_raw\n",
      "    GROUP BY 1, 2\n",
      ") AS t1;]\n",
      "(Background on this error at: https://sqlalche.me/e/20/gkpj)\n"
     ]
    }
   ],
   "source": [
    "%%sql\n",
    "\n",
    "INSERT INTO dim_product(\n",
    "    product_id, product_name, category, actual_price, discount_percentage, product_link\n",
    "    )\n",
    "SELECT\n",
    "    t1.product_id,\n",
    "    t1.product_name,\n",
    "    t1.category,\n",
    "    t1.actual_price,\n",
    "    t1.discount_percentage,\n",
    "    t1.product_link\n",
    "FROM (\n",
    "    SELECT\n",
    "        product_id,\n",
    "        product_name,\n",
    "        category, \n",
    "        actual_price,\n",
    "        discount_percentage,\n",
    "        product_link\n",
    "    FROM stg_amazon_products_reviews_raw\n",
    "    GROUP BY 1, 2\n",
    ") AS t1;"
   ]
  },
  {
   "cell_type": "markdown",
   "id": "a7d99912",
   "metadata": {},
   "source": [
    "Fact table for review metrics is to be created last, then will be populated using the staging table. "
   ]
  },
  {
   "cell_type": "code",
   "execution_count": null,
   "id": "68b52a88",
   "metadata": {},
   "outputs": [],
   "source": [
    "%%sql\n",
    "\n",
    "CREATE TABLE fact_review_metrics(\n",
    "    review_key INT PRIMARY KEY NOT NULL,\n",
    "    date_key DATE NOT NULL,\n",
    "    user_key VARCHAR(30) NOT NULL,\n",
    "    product_key VARCHAR(30) NOT NULL,\n",
    "    rating METRIC,\n",
    "    rating_count METRIC,\n",
    "    rating_title DESCRIPTIVE\n",
    ");"
   ]
  },
  {
   "cell_type": "code",
   "execution_count": null,
   "id": "13fca38d",
   "metadata": {},
   "outputs": [
    {
     "name": "stdout",
     "output_type": "stream",
     "text": [
      " * sqlite:///amazon_sales.csv\n",
      "(sqlite3.OperationalError) incomplete input\n",
      "[SQL: INSERT INTO fact_review_metrics(\n",
      "    user_key, review_key, date_key, product_key, rating, rating_count, rating_title\n",
      ")]\n",
      "(Background on this error at: https://sqlalche.me/e/20/e3q8)\n"
     ]
    }
   ],
   "source": [
    "%%sql\n",
    "\n",
    "INSERT INTO fact_review_metrics(\n",
    "    user_key, review_key, date_key, product_key, rating, rating_count, rating_title\n",
    ")\n",
    "WITH transformed_date AS (\n",
    "    SELECT\n",
    "        R.rating,\n",
    "        R.rating_count,\n",
    "        DU.user_key,\n",
    "        DP.product_key,\n",
    "    FROM stg_amazon_products_reviews_raw AS R\n",
    "    INNER JOIN\n",
    ")"
   ]
  },
  {
   "cell_type": "code",
   "execution_count": null,
   "id": "36103096",
   "metadata": {},
   "outputs": [],
   "source": []
  }
 ],
 "metadata": {
  "kernelspec": {
   "display_name": "Python 3",
   "language": "python",
   "name": "python3"
  },
  "language_info": {
   "codemirror_mode": {
    "name": "ipython",
    "version": 3
   },
   "file_extension": ".py",
   "mimetype": "text/x-python",
   "name": "python",
   "nbconvert_exporter": "python",
   "pygments_lexer": "ipython3",
   "version": "3.12.1"
  }
 },
 "nbformat": 4,
 "nbformat_minor": 5
}
