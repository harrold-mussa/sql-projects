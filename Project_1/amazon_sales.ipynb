{
 "cells": [
  {
   "cell_type": "markdown",
   "id": "5a43d271",
   "metadata": {},
   "source": [
    "## Amazon Product Analysis, including Review Analysis ##\n",
    "The .csv has been imported in the first project file to create a star schema image, attached in the folder. "
   ]
  },
  {
   "cell_type": "code",
   "execution_count": null,
   "id": "c4edfc58",
   "metadata": {},
   "outputs": [],
   "source": [
    "import pandas as pd\n",
    "import sqlite3\n",
    "from sqlalchemy import create_engine\n",
    "\n",
    "engine = create_engine('sqlite:///amazon_sales.csv')\n",
    "\n",
    "csv_filepath = 'data/amazon_sales.csv'\n",
    "raw_df = pd.read_csv(csv_filepath)\n",
    "\n",
    "raw_df.to_sql('stg_amazon_products_reviews_raw', engine, if_exists='replace', index=False)\n",
    "\n",
    "print(\"Raw data loaded successfully into the 'stg_amazon_products_reviews_raw' table.\")"
   ]
  },
  {
   "cell_type": "code",
   "execution_count": null,
   "id": "a88a6d12",
   "metadata": {},
   "outputs": [],
   "source": [
    "%load_ext sql\n",
    "%sql sqlite:///amazon_sales.csv"
   ]
  },
  {
   "cell_type": "code",
   "execution_count": null,
   "id": "517e6f0e",
   "metadata": {},
   "outputs": [],
   "source": [
    "%%sql\n",
    "\n",
    "CREATE TABLE dim_product(\n",
    "    product_key INT PRIMARY KEY,\n",
    "    product_id VARCHAR(20) NOT NULL UNIQUE, \n",
    "    product_name VARCHAR(50) NOT NULL,\n",
    "    category TEXT,\n",
    "    discounted NUMERIC,\n",
    "    actual_price NUMERIC,\n",
    "    discount_percentage NUMERIC, \n",
    "    product_link LINK\n",
    ");"
   ]
  },
  {
   "cell_type": "code",
   "execution_count": null,
   "id": "96b27353",
   "metadata": {},
   "outputs": [],
   "source": [
    "%%sql\n",
    "\n",
    "INSERT INTO dim_product(\n",
    "    product_id, product_name, category, actual_price, discount_percentage, product_link\n",
    "    )\n",
    "SELECT\n",
    "    t1.product_id,\n",
    "    t1.product_name,\n",
    "    t1.category,\n",
    "    t1.actual_price,\n",
    "    t1.discount_percentage,\n",
    "    t1.product_link\n",
    "FROM (\n",
    "    SELECT\n",
    "        product_id,\n",
    "        product_name,\n",
    "        category, \n",
    "        actual_price,\n",
    "        discount_percentage,\n",
    "        product_link\n",
    "    FROM stg_amazon_products_reviews_raw\n",
    "    GROUP BY 1, 2\n",
    ") AS t1;"
   ]
  },
  {
   "cell_type": "code",
   "execution_count": null,
   "id": "0b2ad9f6",
   "metadata": {},
   "outputs": [],
   "source": [
    "%%sql\n",
    "\n",
    "CREATE TABLE dim_review_detail(\n",
    "    review_key INT UNIQUE,\n",
    "    review_content TEXT, \n",
    "    img_link LINK\n",
    ")"
   ]
  },
  {
   "cell_type": "code",
   "execution_count": null,
   "id": "31965396",
   "metadata": {},
   "outputs": [],
   "source": [
    "%%sql \n",
    "\n",
    "INSERT INTO dim_review_detail(\n",
    "    review_content, img_link\n",
    ")\n",
    "SELECT\n",
    "    T1.review_content,\n",
    "    T1.img_link\n",
    "FROM (\n",
    "    SELECT \n",
    "        review_content,\n",
    "        img_link\n",
    "    FROM stg_amazon_products_reviews_raw\n",
    "    GROUP BY 1, 2\n",
    ") AS T1;"
   ]
  },
  {
   "cell_type": "code",
   "execution_count": null,
   "id": "b2a6fea6",
   "metadata": {},
   "outputs": [],
   "source": [
    "%%sql \n",
    "\n",
    "CREATE TABLE dim_user(\n",
    "    user_key INT UNIQUE,\n",
    "    user_id VARCHAR(20) NOT NULL UNIQUE,\n",
    "    user_name VARCHAR(50),\n",
    "    customer_location TEXT\n",
    ")"
   ]
  },
  {
   "cell_type": "code",
   "execution_count": null,
   "id": "6b2c0e34",
   "metadata": {},
   "outputs": [],
   "source": [
    "%%sql\n",
    "\n",
    "INSERT INTO dim_user(\n",
    "    user_id, user_name\n",
    "    )\n",
    "SELECT\n",
    "    T1.user_id,\n",
    "    T1.user_name\n",
    "FROM (\n",
    "    SELECT\n",
    "        user_id,\n",
    "        user_name\n",
    "    FROM stg_amazon_products_reviews_raw\n",
    "    GROUP BY 1, 2\n",
    ") AS T1;"
   ]
  },
  {
   "cell_type": "code",
   "execution_count": null,
   "id": "1d594d8b",
   "metadata": {},
   "outputs": [],
   "source": [
    "%%sql\n",
    "\n",
    "CREATE TABLE fact_review_metrics(\n",
    "    review_key INT PRIMARY KEY NOT NULL,\n",
    "    date_key DATE NOT NULL,\n",
    "    user_key VARCHAR(30) NOT NULL,\n",
    "    product_key VARCHAR(30) NOT NULL,\n",
    "    rating METRIC,\n",
    "    rating_count METRIC,\n",
    "    rating_title DESCRIPTIVE\n",
    ");"
   ]
  },
  {
   "cell_type": "code",
   "execution_count": null,
   "id": "0cdc48c8",
   "metadata": {},
   "outputs": [],
   "source": [
    "%config SqlMagic.style = 'plain'"
   ]
  },
  {
   "cell_type": "code",
   "execution_count": null,
   "id": "45ada821",
   "metadata": {},
   "outputs": [],
   "source": [
    "%sql sqlite:///amazon_sales.csv"
   ]
  },
  {
   "cell_type": "code",
   "execution_count": 19,
   "id": "44c97a4c",
   "metadata": {},
   "outputs": [
    {
     "data": {
      "text/html": [
       "<div>\n",
       "<style scoped>\n",
       "    .dataframe tbody tr th:only-of-type {\n",
       "        vertical-align: middle;\n",
       "    }\n",
       "\n",
       "    .dataframe tbody tr th {\n",
       "        vertical-align: top;\n",
       "    }\n",
       "\n",
       "    .dataframe thead th {\n",
       "        text-align: right;\n",
       "    }\n",
       "</style>\n",
       "<table border=\"1\" class=\"dataframe\">\n",
       "  <thead>\n",
       "    <tr style=\"text-align: right;\">\n",
       "      <th></th>\n",
       "      <th>total_rows</th>\n",
       "      <th>unique_products</th>\n",
       "    </tr>\n",
       "  </thead>\n",
       "  <tbody>\n",
       "    <tr>\n",
       "      <th>0</th>\n",
       "      <td>1465</td>\n",
       "      <td>1351</td>\n",
       "    </tr>\n",
       "  </tbody>\n",
       "</table>\n",
       "</div>"
      ],
      "text/plain": [
       "   total_rows  unique_products\n",
       "0        1465             1351"
      ]
     },
     "execution_count": 19,
     "metadata": {},
     "output_type": "execute_result"
    }
   ],
   "source": [
    "import pandas as pd\n",
    "from sqlalchemy import create_engine\n",
    "\n",
    "engine = create_engine('sqlite:///amazon_sales.csv')\n",
    "\n",
    "sql_query = \"\"\"\n",
    "SELECT \n",
    "    COUNT(*) AS total_rows, \n",
    "    COUNT(DISTINCT product_id) AS unique_products\n",
    "FROM stg_amazon_products_reviews_raw\n",
    "LIMIT 10;\n",
    "\"\"\"\n",
    "\n",
    "result_df = pd.read_sql(sql_query, engine)\n",
    "result_df"
   ]
  }
 ],
 "metadata": {
  "kernelspec": {
   "display_name": "Python 3",
   "language": "python",
   "name": "python3"
  },
  "language_info": {
   "codemirror_mode": {
    "name": "ipython",
    "version": 3
   },
   "file_extension": ".py",
   "mimetype": "text/x-python",
   "name": "python",
   "nbconvert_exporter": "python",
   "pygments_lexer": "ipython3",
   "version": "3.12.1"
  }
 },
 "nbformat": 4,
 "nbformat_minor": 5
}
