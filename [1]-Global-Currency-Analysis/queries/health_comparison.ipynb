{
 "cells": [
  {
   "cell_type": "code",
   "execution_count": null,
   "id": "dcba2eb2",
   "metadata": {},
   "outputs": [],
   "source": [
    "%%sql\n",
    "\n",
    "CREATE VIEW view_economic_data AS\n",
    "SELECT\n",
    "    dd.year,\n",
    "    dc.country,\n",
    "    dc.region,\n",
    "    di.indicator_name,\n",
    "    di.category,\n",
    "    fei.value\n",
    "FROM fact_economic_indicator AS fei\n",
    "INNER JOIN dim_date AS dd\n",
    "    ON fei.date_key = dd.date_key\n",
    "INNER JOIN dim_indicator AS di\n",
    "    ON fei.indicator_key = di.indicator_key\n",
    "INNER JOIN dim_country AS dc\n",
    "    ON fei.country_key = dc.country_key"
   ]
  },
  {
   "cell_type": "code",
   "execution_count": null,
   "id": "9f860b25",
   "metadata": {},
   "outputs": [],
   "source": [
    "%%sql\n",
    "\n",
    "CREATE VIEW view_yoy_growth AS \n",
    "SELECT\n",
    "    dd.year,\n",
    "    dc.country_name,\n",
    "    di.indicator_name,\n",
    "    LAG(f.value) OVER (\n",
    "        PARTITION BY f.country_key, f.indicator_key \n",
    "        ORDER BY d.year\n",
    "    ) as previous_value,\n",
    "    ((f.value - LAG(f.value) OVER (\n",
    "        PARTITION BY f.country_key, f.indicator_key \n",
    "        ORDER BY d.year\n",
    "    )) / NULLIF(LAG(f.value) OVER (\n",
    "        PARTITION BY f.country_key, f.indicator_key \n",
    "        ORDER BY d.year\n",
    "    ), 0)) * 100 as yoy_growth_pct\n",
    "FROM fact_economic_indicator AS fei\n",
    "INNER JOIN dim_date AS dd\n",
    "    ON fei.date_key = dd.date_key\n",
    "INNER JOIN dim_indicator AS di\n",
    "    ON fei.indicator_key = di.indicator_key\n",
    "INNER JOIN dim_country AS dc\n",
    "    ON fei.country_key = dc.country_key"
   ]
  }
 ],
 "metadata": {
  "kernelspec": {
   "display_name": "Python 3",
   "language": "python",
   "name": "python3"
  },
  "language_info": {
   "codemirror_mode": {
    "name": "ipython",
    "version": 3
   },
   "file_extension": ".py",
   "mimetype": "text/x-python",
   "name": "python",
   "nbconvert_exporter": "python",
   "pygments_lexer": "ipython3",
   "version": "3.12.1"
  }
 },
 "nbformat": 4,
 "nbformat_minor": 5
}
